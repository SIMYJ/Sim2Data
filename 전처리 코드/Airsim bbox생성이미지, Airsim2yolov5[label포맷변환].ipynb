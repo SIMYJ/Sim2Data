{
 "cells": [
  {
   "cell_type": "markdown",
   "id": "60c42701",
   "metadata": {},
   "source": [
    "# Airsim Detection 활용\n",
    "- Airsim에서 제공하는 API를 통해 detection정보 활용\n",
    "- 2D이미지를 사용하기때문에 Box2D 좌표만 사용할것이다."
   ]
  },
  {
   "cell_type": "markdown",
   "id": "c4877fd2",
   "metadata": {},
   "source": [
    "# 1.단일 jpg, json파일 적용"
   ]
  },
  {
   "cell_type": "markdown",
   "id": "c9a73021",
   "metadata": {},
   "source": [
    "- 필자는 윈도우 환경을 사용하였다. (리눅스환경일 경우 경로 변경해야된다.)\n",
    "- 윈도우 경로     \n",
    " C:\\Users\\slkaf\\Documents\\AirSim\\scenery_original\\20210829-170508.jpg\n",
    " C:\\Users\\slkaf\\Documents\\AirSim\\scenery_label\\20210829-170508.json"
   ]
  },
  {
   "cell_type": "markdown",
   "id": "0676605a",
   "metadata": {},
   "source": [
    "### 1) 하나의 json파일 출력하기"
   ]
  },
  {
   "cell_type": "code",
   "execution_count": 3,
   "id": "17c600c8",
   "metadata": {},
   "outputs": [
    {
     "name": "stdout",
     "output_type": "stream",
     "text": [
      "[josn라이브러리 경로]:C:\\Users\\slkaf\\anaconda3\\envs\\yolov5\\lib\\json\\__init__.py\n",
      "C:\\Users\\slkaf\\Documents\\AirSim\\scenery_label\\20210829-170122.json\n",
      "{\n",
      "\t\"box2D\": {\n",
      "\t\t\"min\": {\n",
      "\t\t\t\"y_val\": 1380.0740966796875,\n",
      "\t\t\t\"x_val\": 1956.163330078125\n",
      "\t\t},\n",
      "\t\t\"max\": {\n",
      "\t\t\t\"y_val\": 1494.3414306640625,\n",
      "\t\t\t\"x_val\": 2037.5191650390625\n",
      "\t\t}\n",
      "\t},\n",
      "\t\"name\": \"Person10\",\n",
      "\t\"relative_pose\": {\n",
      "\t\t\"orientation\": {\n",
      "\t\t\t\"z_val\": -0.41868776082992554,\n",
      "\t\t\t\"y_val\": -0.4388687014579773,\n",
      "\t\t\t\"w_val\": 0.757093071937561,\n",
      "\t\t\t\"x_val\": -0.24270328879356384\n",
      "\t\t},\n",
      "\t\t\"position\": {\n",
      "\t\t\t\"z_val\": 5.3941650390625,\n",
      "\t\t\t\"y_val\": 1.240972876548767,\n",
      "\t\t\t\"x_val\": 26.430570602416992\n",
      "\t\t}\n",
      "\t},\n",
      "\t\"geo_point\": {\n",
      "\t\t\"longitude\": -122.140251680297,\n",
      "\t\t\"altitude\": 96.38077545166016,\n",
      "\t\t\"latitude\": 47.64151782968601\n",
      "\t},\n",
      "\t\"box3D\": {\n",
      "\t\t\"min\": {\n",
      "\t\t\t\"z_val\": 5.041371822357178,\n",
      "\t\t\t\"y_val\": 0.501995861530304,\n",
      "\t\t\t\"x_val\": 26.71910285949707\n",
      "\t\t},\n",
      "\t\t\"max\": {\n",
      "\t\t\t\"z_val\": 4.652222633361816,\n",
      "\t\t\t\"y_val\": 1.545806884765625,\n",
      "\t\t\t\"x_val\": 25.273542404174805\n",
      "\t\t}\n",
      "\t}\n",
      "}\n"
     ]
    }
   ],
   "source": [
    "import json\n",
    "import os\n",
    "print (\"[josn라이브러리 경로]:{}\".format(json.__file__ ))\n",
    "filepath =os.path.expanduser('~')+'\\Documents\\\\AirSim\\\\scenery_label\\\\20210829-170122.json'\n",
    "print(filepath)\n",
    "\n",
    "\n",
    "with open(filepath, 'r') as f:\n",
    "\n",
    "    json_data = json.load(f)\n",
    "\n",
    "#print(json.dumps(json_data) )\n",
    "print(json.dumps(json_data, indent=\"\\t\") )"
   ]
  },
  {
   "cell_type": "markdown",
   "id": "3b02b595",
   "metadata": {},
   "source": [
    "## 2) dectection(BBox) 좌표 출력"
   ]
  },
  {
   "cell_type": "code",
   "execution_count": 5,
   "id": "23b0e464",
   "metadata": {},
   "outputs": [
    {
     "name": "stdout",
     "output_type": "stream",
     "text": [
      "1956.163330078125\n",
      "2037.5191650390625\n",
      "1380.0740966796875\n",
      "1494.3414306640625\n"
     ]
    }
   ],
   "source": [
    "x1 = json_data[\"box2D\"][\"min\"][\"x_val\"]\n",
    "x2 = json_data[\"box2D\"][\"max\"][\"x_val\"]\n",
    "y1 = json_data[\"box2D\"][\"min\"][\"y_val\"]\n",
    "y2 = json_data[\"box2D\"][\"max\"][\"y_val\"]\n",
    "print(x1)\n",
    "print(x2)\n",
    "print(y1)\n",
    "print(y2)"
   ]
  },
  {
   "cell_type": "markdown",
   "id": "f0e1d06f",
   "metadata": {},
   "source": [
    "## 3) detection(BBox) 좌표 이미지 저장"
   ]
  },
  {
   "cell_type": "code",
   "execution_count": 8,
   "id": "b9442328",
   "metadata": {},
   "outputs": [
    {
     "name": "stdout",
     "output_type": "stream",
     "text": [
      "C:\\Users\\slkaf\\Documents\\AirSim\\scenery_original\\20210829-170508.jpg\n"
     ]
    },
    {
     "data": {
      "text/plain": [
       "True"
      ]
     },
     "execution_count": 8,
     "metadata": {},
     "output_type": "execute_result"
    }
   ],
   "source": [
    "import os\n",
    "import cv2\n",
    "\n",
    "filepath =os.path.expanduser('~')+'\\Documents\\AirSim\\scenery_original\\\\20210829-170508.jpg'\n",
    "print(filepath)\n",
    "# 컬러 스케일로 불러온다 = 1\n",
    "img = cv2.imread(filepath,1)#이미지 불러오기\n",
    "\n",
    "cv2.rectangle(img,(int(x1),int(y1)),(int(x2),int(y2)),(255,0,0),2)\n",
    "             \n",
    "\n",
    "filepath =os.path.expanduser('~')+'\\Documents\\\\AirSim\\\\scenery_bbox\\\\'\n",
    "filenames = datetime.now().strftime(\"%Y%m%d-%H%M%S\")\n",
    "cv2.imwrite(filepath + filenames + '.jpg', img)\n"
   ]
  },
  {
   "cell_type": "markdown",
   "id": "74b19e0c",
   "metadata": {},
   "source": [
    "# 2.폴더 안의 모든 파일 접근\n",
    "필자는 윈도우 환경을 사용하였다. (리눅스환경일 경우 경로 변경해야된다.)      \n",
    "윈도우 경로          \n",
    "C:\\Users\\slkaf\\Documents\\AirSim\\Meadow_Environment     \n"
   ]
  },
  {
   "cell_type": "markdown",
   "id": "5cf737fe",
   "metadata": {},
   "source": [
    "폴더경로\n",
    "```\n",
    "ME_person01\n",
    "    |- train\n",
    "    |- label\n",
    "ME_person02\n",
    "    |- train\n",
    "    |- label\n",
    "        .\n",
    "        .\n",
    "        .\n",
    "ME_person10\n",
    "    |- train\n",
    "    |- label\n",
    "```"
   ]
  },
  {
   "cell_type": "markdown",
   "id": "1769aa0d",
   "metadata": {},
   "source": [
    "## 1) 모든 이미지에 bbox 표현하기 \n",
    "- os.walk(path) 사용      \n",
    "파이썬[Python] 특정 경로에 있는 모든 파일과 디렉토리 출력하기(os.walk)    \n",
    "https://appia.tistory.com/225 참조\n",
    "    \n",
    "\n",
    "   \n",
    "- os.path.splitext(path) 사용    \n",
    "https://redcow77.tistory.com/371"
   ]
  },
  {
   "cell_type": "code",
   "execution_count": 55,
   "id": "88695b38",
   "metadata": {
    "scrolled": true
   },
   "outputs": [
    {
     "name": "stdout",
     "output_type": "stream",
     "text": [
      "ME_person09\n",
      "\n",
      "C:\\Users\\slkaf\\Documents\\AirSim\\Meadow_Environment\\ME_person09\\\n"
     ]
    }
   ],
   "source": [
    "#현재 \n",
    "# ME_person01\n",
    "# ME_person02\n",
    "\n",
    "#ME_person03\n",
    "#ME_person04\n",
    "#입력가능\n",
    "\n",
    "a = input()\n",
    "print()\n",
    "\n",
    "path= 'C:\\\\Users\\\\slkaf\\\\Documents\\\\AirSim\\Meadow_Environment\\\\'+a+\"\\\\\"\n",
    "print(path)"
   ]
  },
  {
   "cell_type": "code",
   "execution_count": 56,
   "id": "dacbd1da",
   "metadata": {},
   "outputs": [
    {
     "name": "stdout",
     "output_type": "stream",
     "text": [
      "C:\\Users\\slkaf\\Documents\\AirSim\\Meadow_Environment\\ME_person09\\train\\20210829-163842.jpg\n",
      "C:\\Users\\slkaf\\Documents\\AirSim\\Meadow_Environment\\ME_person09\\bbox\\20210829-163842\n",
      "C:\\Users\\slkaf\\Documents\\AirSim\\Meadow_Environment\\ME_person09\\train\\20210829-163845.jpg\n",
      "C:\\Users\\slkaf\\Documents\\AirSim\\Meadow_Environment\\ME_person09\\bbox\\20210829-163845\n",
      "C:\\Users\\slkaf\\Documents\\AirSim\\Meadow_Environment\\ME_person09\\train\\20210829-163848.jpg\n",
      "C:\\Users\\slkaf\\Documents\\AirSim\\Meadow_Environment\\ME_person09\\bbox\\20210829-163848\n",
      "C:\\Users\\slkaf\\Documents\\AirSim\\Meadow_Environment\\ME_person09\\train\\20210829-163850.jpg\n",
      "C:\\Users\\slkaf\\Documents\\AirSim\\Meadow_Environment\\ME_person09\\bbox\\20210829-163850\n",
      "C:\\Users\\slkaf\\Documents\\AirSim\\Meadow_Environment\\ME_person09\\train\\20210829-163852.jpg\n",
      "C:\\Users\\slkaf\\Documents\\AirSim\\Meadow_Environment\\ME_person09\\bbox\\20210829-163852\n",
      "C:\\Users\\slkaf\\Documents\\AirSim\\Meadow_Environment\\ME_person09\\train\\20210829-163855.jpg\n",
      "C:\\Users\\slkaf\\Documents\\AirSim\\Meadow_Environment\\ME_person09\\bbox\\20210829-163855\n",
      "C:\\Users\\slkaf\\Documents\\AirSim\\Meadow_Environment\\ME_person09\\train\\20210829-163900.jpg\n",
      "C:\\Users\\slkaf\\Documents\\AirSim\\Meadow_Environment\\ME_person09\\bbox\\20210829-163900\n",
      "C:\\Users\\slkaf\\Documents\\AirSim\\Meadow_Environment\\ME_person09\\train\\20210829-163903.jpg\n",
      "C:\\Users\\slkaf\\Documents\\AirSim\\Meadow_Environment\\ME_person09\\bbox\\20210829-163903\n",
      "C:\\Users\\slkaf\\Documents\\AirSim\\Meadow_Environment\\ME_person09\\train\\20210829-163909.jpg\n",
      "C:\\Users\\slkaf\\Documents\\AirSim\\Meadow_Environment\\ME_person09\\bbox\\20210829-163909\n",
      "C:\\Users\\slkaf\\Documents\\AirSim\\Meadow_Environment\\ME_person09\\train\\20210829-163911.jpg\n",
      "C:\\Users\\slkaf\\Documents\\AirSim\\Meadow_Environment\\ME_person09\\bbox\\20210829-163911\n",
      "C:\\Users\\slkaf\\Documents\\AirSim\\Meadow_Environment\\ME_person09\\train\\20210829-163914.jpg\n",
      "C:\\Users\\slkaf\\Documents\\AirSim\\Meadow_Environment\\ME_person09\\bbox\\20210829-163914\n",
      "C:\\Users\\slkaf\\Documents\\AirSim\\Meadow_Environment\\ME_person09\\train\\20210829-163917.jpg\n",
      "C:\\Users\\slkaf\\Documents\\AirSim\\Meadow_Environment\\ME_person09\\bbox\\20210829-163917\n",
      "C:\\Users\\slkaf\\Documents\\AirSim\\Meadow_Environment\\ME_person09\\train\\20210829-163919.jpg\n",
      "C:\\Users\\slkaf\\Documents\\AirSim\\Meadow_Environment\\ME_person09\\bbox\\20210829-163919\n",
      "C:\\Users\\slkaf\\Documents\\AirSim\\Meadow_Environment\\ME_person09\\train\\20210829-163922.jpg\n",
      "C:\\Users\\slkaf\\Documents\\AirSim\\Meadow_Environment\\ME_person09\\bbox\\20210829-163922\n",
      "C:\\Users\\slkaf\\Documents\\AirSim\\Meadow_Environment\\ME_person09\\train\\20210829-163924.jpg\n",
      "C:\\Users\\slkaf\\Documents\\AirSim\\Meadow_Environment\\ME_person09\\bbox\\20210829-163924\n",
      "C:\\Users\\slkaf\\Documents\\AirSim\\Meadow_Environment\\ME_person09\\train\\20210829-163927.jpg\n",
      "C:\\Users\\slkaf\\Documents\\AirSim\\Meadow_Environment\\ME_person09\\bbox\\20210829-163927\n",
      "C:\\Users\\slkaf\\Documents\\AirSim\\Meadow_Environment\\ME_person09\\train\\20210829-163929.jpg\n",
      "C:\\Users\\slkaf\\Documents\\AirSim\\Meadow_Environment\\ME_person09\\bbox\\20210829-163929\n",
      "C:\\Users\\slkaf\\Documents\\AirSim\\Meadow_Environment\\ME_person09\\train\\20210829-163934.jpg\n",
      "C:\\Users\\slkaf\\Documents\\AirSim\\Meadow_Environment\\ME_person09\\bbox\\20210829-163934\n",
      "C:\\Users\\slkaf\\Documents\\AirSim\\Meadow_Environment\\ME_person09\\train\\20210829-163937.jpg\n",
      "C:\\Users\\slkaf\\Documents\\AirSim\\Meadow_Environment\\ME_person09\\bbox\\20210829-163937\n",
      "C:\\Users\\slkaf\\Documents\\AirSim\\Meadow_Environment\\ME_person09\\train\\20210829-163941.jpg\n",
      "C:\\Users\\slkaf\\Documents\\AirSim\\Meadow_Environment\\ME_person09\\bbox\\20210829-163941\n",
      "C:\\Users\\slkaf\\Documents\\AirSim\\Meadow_Environment\\ME_person09\\train\\20210829-163943.jpg\n",
      "C:\\Users\\slkaf\\Documents\\AirSim\\Meadow_Environment\\ME_person09\\bbox\\20210829-163943\n",
      "C:\\Users\\slkaf\\Documents\\AirSim\\Meadow_Environment\\ME_person09\\train\\20210829-163946.jpg\n",
      "C:\\Users\\slkaf\\Documents\\AirSim\\Meadow_Environment\\ME_person09\\bbox\\20210829-163946\n",
      "C:\\Users\\slkaf\\Documents\\AirSim\\Meadow_Environment\\ME_person09\\train\\20210829-163951.jpg\n",
      "C:\\Users\\slkaf\\Documents\\AirSim\\Meadow_Environment\\ME_person09\\bbox\\20210829-163951\n",
      "C:\\Users\\slkaf\\Documents\\AirSim\\Meadow_Environment\\ME_person09\\train\\20210829-163954.jpg\n",
      "C:\\Users\\slkaf\\Documents\\AirSim\\Meadow_Environment\\ME_person09\\bbox\\20210829-163954\n",
      "C:\\Users\\slkaf\\Documents\\AirSim\\Meadow_Environment\\ME_person09\\train\\20210829-163956.jpg\n",
      "C:\\Users\\slkaf\\Documents\\AirSim\\Meadow_Environment\\ME_person09\\bbox\\20210829-163956\n",
      "C:\\Users\\slkaf\\Documents\\AirSim\\Meadow_Environment\\ME_person09\\train\\20210829-164001.jpg\n",
      "C:\\Users\\slkaf\\Documents\\AirSim\\Meadow_Environment\\ME_person09\\bbox\\20210829-164001\n",
      "C:\\Users\\slkaf\\Documents\\AirSim\\Meadow_Environment\\ME_person09\\train\\20210829-164630.jpg\n",
      "C:\\Users\\slkaf\\Documents\\AirSim\\Meadow_Environment\\ME_person09\\bbox\\20210829-164630\n",
      "C:\\Users\\slkaf\\Documents\\AirSim\\Meadow_Environment\\ME_person09\\train\\20210829-164633.jpg\n",
      "C:\\Users\\slkaf\\Documents\\AirSim\\Meadow_Environment\\ME_person09\\bbox\\20210829-164633\n",
      "C:\\Users\\slkaf\\Documents\\AirSim\\Meadow_Environment\\ME_person09\\train\\20210829-164635.jpg\n",
      "C:\\Users\\slkaf\\Documents\\AirSim\\Meadow_Environment\\ME_person09\\bbox\\20210829-164635\n",
      "C:\\Users\\slkaf\\Documents\\AirSim\\Meadow_Environment\\ME_person09\\train\\20210829-164822.jpg\n",
      "C:\\Users\\slkaf\\Documents\\AirSim\\Meadow_Environment\\ME_person09\\bbox\\20210829-164822\n",
      "C:\\Users\\slkaf\\Documents\\AirSim\\Meadow_Environment\\ME_person09\\train\\20210829-164824.jpg\n",
      "C:\\Users\\slkaf\\Documents\\AirSim\\Meadow_Environment\\ME_person09\\bbox\\20210829-164824\n",
      "C:\\Users\\slkaf\\Documents\\AirSim\\Meadow_Environment\\ME_person09\\train\\20210829-164827.jpg\n",
      "C:\\Users\\slkaf\\Documents\\AirSim\\Meadow_Environment\\ME_person09\\bbox\\20210829-164827\n",
      "C:\\Users\\slkaf\\Documents\\AirSim\\Meadow_Environment\\ME_person09\\train\\20210829-164829.jpg\n",
      "C:\\Users\\slkaf\\Documents\\AirSim\\Meadow_Environment\\ME_person09\\bbox\\20210829-164829\n",
      "C:\\Users\\slkaf\\Documents\\AirSim\\Meadow_Environment\\ME_person09\\train\\20210829-164832.jpg\n",
      "C:\\Users\\slkaf\\Documents\\AirSim\\Meadow_Environment\\ME_person09\\bbox\\20210829-164832\n",
      "C:\\Users\\slkaf\\Documents\\AirSim\\Meadow_Environment\\ME_person09\\train\\20210829-164834.jpg\n",
      "C:\\Users\\slkaf\\Documents\\AirSim\\Meadow_Environment\\ME_person09\\bbox\\20210829-164834\n",
      "C:\\Users\\slkaf\\Documents\\AirSim\\Meadow_Environment\\ME_person09\\train\\20210829-164837.jpg\n",
      "C:\\Users\\slkaf\\Documents\\AirSim\\Meadow_Environment\\ME_person09\\bbox\\20210829-164837\n",
      "C:\\Users\\slkaf\\Documents\\AirSim\\Meadow_Environment\\ME_person09\\train\\20210829-164839.jpg\n",
      "C:\\Users\\slkaf\\Documents\\AirSim\\Meadow_Environment\\ME_person09\\bbox\\20210829-164839\n",
      "C:\\Users\\slkaf\\Documents\\AirSim\\Meadow_Environment\\ME_person09\\train\\20210829-164842.jpg\n",
      "C:\\Users\\slkaf\\Documents\\AirSim\\Meadow_Environment\\ME_person09\\bbox\\20210829-164842\n",
      "C:\\Users\\slkaf\\Documents\\AirSim\\Meadow_Environment\\ME_person09\\train\\20210829-164845.jpg\n",
      "C:\\Users\\slkaf\\Documents\\AirSim\\Meadow_Environment\\ME_person09\\bbox\\20210829-164845\n",
      "C:\\Users\\slkaf\\Documents\\AirSim\\Meadow_Environment\\ME_person09\\train\\20210829-164847.jpg\n",
      "C:\\Users\\slkaf\\Documents\\AirSim\\Meadow_Environment\\ME_person09\\bbox\\20210829-164847\n",
      "C:\\Users\\slkaf\\Documents\\AirSim\\Meadow_Environment\\ME_person09\\train\\20210829-164850.jpg\n",
      "C:\\Users\\slkaf\\Documents\\AirSim\\Meadow_Environment\\ME_person09\\bbox\\20210829-164850\n",
      "C:\\Users\\slkaf\\Documents\\AirSim\\Meadow_Environment\\ME_person09\\train\\20210829-164852.jpg\n",
      "C:\\Users\\slkaf\\Documents\\AirSim\\Meadow_Environment\\ME_person09\\bbox\\20210829-164852\n",
      "C:\\Users\\slkaf\\Documents\\AirSim\\Meadow_Environment\\ME_person09\\train\\20210829-164854.jpg\n",
      "C:\\Users\\slkaf\\Documents\\AirSim\\Meadow_Environment\\ME_person09\\bbox\\20210829-164854\n",
      "C:\\Users\\slkaf\\Documents\\AirSim\\Meadow_Environment\\ME_person09\\train\\20210829-164857.jpg\n",
      "C:\\Users\\slkaf\\Documents\\AirSim\\Meadow_Environment\\ME_person09\\bbox\\20210829-164857\n",
      "C:\\Users\\slkaf\\Documents\\AirSim\\Meadow_Environment\\ME_person09\\train\\20210829-164859.jpg\n",
      "C:\\Users\\slkaf\\Documents\\AirSim\\Meadow_Environment\\ME_person09\\bbox\\20210829-164859\n",
      "C:\\Users\\slkaf\\Documents\\AirSim\\Meadow_Environment\\ME_person09\\train\\20210829-164902.jpg\n",
      "C:\\Users\\slkaf\\Documents\\AirSim\\Meadow_Environment\\ME_person09\\bbox\\20210829-164902\n",
      "C:\\Users\\slkaf\\Documents\\AirSim\\Meadow_Environment\\ME_person09\\train\\20210829-164904.jpg\n",
      "C:\\Users\\slkaf\\Documents\\AirSim\\Meadow_Environment\\ME_person09\\bbox\\20210829-164904\n",
      "C:\\Users\\slkaf\\Documents\\AirSim\\Meadow_Environment\\ME_person09\\train\\20210829-164907.jpg\n",
      "C:\\Users\\slkaf\\Documents\\AirSim\\Meadow_Environment\\ME_person09\\bbox\\20210829-164907\n"
     ]
    },
    {
     "name": "stdout",
     "output_type": "stream",
     "text": [
      "C:\\Users\\slkaf\\Documents\\AirSim\\Meadow_Environment\\ME_person09\\train\\20210829-164909.jpg\n",
      "C:\\Users\\slkaf\\Documents\\AirSim\\Meadow_Environment\\ME_person09\\bbox\\20210829-164909\n",
      "C:\\Users\\slkaf\\Documents\\AirSim\\Meadow_Environment\\ME_person09\\train\\20210829-164912.jpg\n",
      "C:\\Users\\slkaf\\Documents\\AirSim\\Meadow_Environment\\ME_person09\\bbox\\20210829-164912\n",
      "C:\\Users\\slkaf\\Documents\\AirSim\\Meadow_Environment\\ME_person09\\train\\20210829-164914.jpg\n",
      "C:\\Users\\slkaf\\Documents\\AirSim\\Meadow_Environment\\ME_person09\\bbox\\20210829-164914\n",
      "C:\\Users\\slkaf\\Documents\\AirSim\\Meadow_Environment\\ME_person09\\train\\20210829-165111.jpg\n",
      "C:\\Users\\slkaf\\Documents\\AirSim\\Meadow_Environment\\ME_person09\\bbox\\20210829-165111\n",
      "C:\\Users\\slkaf\\Documents\\AirSim\\Meadow_Environment\\ME_person09\\train\\20210829-165114.jpg\n",
      "C:\\Users\\slkaf\\Documents\\AirSim\\Meadow_Environment\\ME_person09\\bbox\\20210829-165114\n",
      "C:\\Users\\slkaf\\Documents\\AirSim\\Meadow_Environment\\ME_person09\\train\\20210829-165116.jpg\n",
      "C:\\Users\\slkaf\\Documents\\AirSim\\Meadow_Environment\\ME_person09\\bbox\\20210829-165116\n",
      "C:\\Users\\slkaf\\Documents\\AirSim\\Meadow_Environment\\ME_person09\\train\\20210829-165119.jpg\n",
      "C:\\Users\\slkaf\\Documents\\AirSim\\Meadow_Environment\\ME_person09\\bbox\\20210829-165119\n",
      "C:\\Users\\slkaf\\Documents\\AirSim\\Meadow_Environment\\ME_person09\\train\\20210829-165151.jpg\n",
      "C:\\Users\\slkaf\\Documents\\AirSim\\Meadow_Environment\\ME_person09\\bbox\\20210829-165151\n",
      "C:\\Users\\slkaf\\Documents\\AirSim\\Meadow_Environment\\ME_person09\\train\\20210829-165154.jpg\n",
      "C:\\Users\\slkaf\\Documents\\AirSim\\Meadow_Environment\\ME_person09\\bbox\\20210829-165154\n",
      "C:\\Users\\slkaf\\Documents\\AirSim\\Meadow_Environment\\ME_person09\\train\\20210829-165156.jpg\n",
      "C:\\Users\\slkaf\\Documents\\AirSim\\Meadow_Environment\\ME_person09\\bbox\\20210829-165156\n",
      "C:\\Users\\slkaf\\Documents\\AirSim\\Meadow_Environment\\ME_person09\\train\\20210829-165159.jpg\n",
      "C:\\Users\\slkaf\\Documents\\AirSim\\Meadow_Environment\\ME_person09\\bbox\\20210829-165159\n",
      "C:\\Users\\slkaf\\Documents\\AirSim\\Meadow_Environment\\ME_person09\\train\\20210829-165230.jpg\n",
      "C:\\Users\\slkaf\\Documents\\AirSim\\Meadow_Environment\\ME_person09\\bbox\\20210829-165230\n",
      "C:\\Users\\slkaf\\Documents\\AirSim\\Meadow_Environment\\ME_person09\\train\\20210829-165233.jpg\n",
      "C:\\Users\\slkaf\\Documents\\AirSim\\Meadow_Environment\\ME_person09\\bbox\\20210829-165233\n",
      "C:\\Users\\slkaf\\Documents\\AirSim\\Meadow_Environment\\ME_person09\\train\\20210829-165235.jpg\n",
      "C:\\Users\\slkaf\\Documents\\AirSim\\Meadow_Environment\\ME_person09\\bbox\\20210829-165235\n",
      "C:\\Users\\slkaf\\Documents\\AirSim\\Meadow_Environment\\ME_person09\\train\\20210829-165238.jpg\n",
      "C:\\Users\\slkaf\\Documents\\AirSim\\Meadow_Environment\\ME_person09\\bbox\\20210829-165238\n",
      "C:\\Users\\slkaf\\Documents\\AirSim\\Meadow_Environment\\ME_person09\\train\\20210829-165240.jpg\n",
      "C:\\Users\\slkaf\\Documents\\AirSim\\Meadow_Environment\\ME_person09\\bbox\\20210829-165240\n",
      "C:\\Users\\slkaf\\Documents\\AirSim\\Meadow_Environment\\ME_person09\\train\\20210829-165243.jpg\n",
      "C:\\Users\\slkaf\\Documents\\AirSim\\Meadow_Environment\\ME_person09\\bbox\\20210829-165243\n",
      "C:\\Users\\slkaf\\Documents\\AirSim\\Meadow_Environment\\ME_person09\\train\\20210829-165245.jpg\n",
      "C:\\Users\\slkaf\\Documents\\AirSim\\Meadow_Environment\\ME_person09\\bbox\\20210829-165245\n",
      "C:\\Users\\slkaf\\Documents\\AirSim\\Meadow_Environment\\ME_person09\\train\\20210829-165248.jpg\n",
      "C:\\Users\\slkaf\\Documents\\AirSim\\Meadow_Environment\\ME_person09\\bbox\\20210829-165248\n",
      "C:\\Users\\slkaf\\Documents\\AirSim\\Meadow_Environment\\ME_person09\\train\\20210829-165250.jpg\n",
      "C:\\Users\\slkaf\\Documents\\AirSim\\Meadow_Environment\\ME_person09\\bbox\\20210829-165250\n",
      "C:\\Users\\slkaf\\Documents\\AirSim\\Meadow_Environment\\ME_person09\\train\\20210829-165253.jpg\n",
      "C:\\Users\\slkaf\\Documents\\AirSim\\Meadow_Environment\\ME_person09\\bbox\\20210829-165253\n",
      "done\n"
     ]
    }
   ],
   "source": [
    "import json\n",
    "import os\n",
    "from datetime import datetime\n",
    "import cv2\n",
    " \n",
    "for currentdir, dirs, files in os.walk(path+\"train\\\\\"):\n",
    "\n",
    "    for file in files :\n",
    "        #print(currentdir)\n",
    "        #print(dirs)\n",
    "        #print(file)\n",
    "        \n",
    "        \n",
    "        filepath = currentdir+ file # 이미지 경로\n",
    "        #print(filepath)\n",
    "        labelpath = path +'label\\\\'+ file \n",
    "        #print(labelpath)\n",
    "        labelpath,_= os.path.splitext(labelpath)\n",
    "        labelpath += '.json' # label 경로\n",
    "        #print(labelpath)\n",
    "        \n",
    "        \n",
    "        ## JSON호출\n",
    "        with open(labelpath, 'r') as f:\n",
    "            json_data = json.load(f)\n",
    "        x1 = json_data[\"box2D\"][\"min\"][\"x_val\"]\n",
    "        x2 = json_data[\"box2D\"][\"max\"][\"x_val\"]\n",
    "        y1 = json_data[\"box2D\"][\"min\"][\"y_val\"]\n",
    "        y2 = json_data[\"box2D\"][\"max\"][\"y_val\"]\n",
    "        \n",
    "        \n",
    "        \n",
    "        img = cv2.imread(filepath,1)#이미지 불러오기\n",
    "        cv2.rectangle(img,(int(x1),int(y1)),(int(x2),int(y2)),(255,0,0),2) # 이미지에 좌표 그리기\n",
    "        print(filepath)\n",
    "        \n",
    "\n",
    "        # 저장할 bbox이미지 폴더 경로   \n",
    "        filepath = path + \"bbox\\\\\" \n",
    "        #print(filepath)\n",
    "        try:\n",
    "            if not os.path.exists(filepath):\n",
    "                os.makedirs(filepath)\n",
    "        except OSError:\n",
    "            print ('Error: Creating directory. ' +  directory)\n",
    "            \n",
    "        filenames = filepath + file\n",
    "        filenames,_= os.path.splitext(filenames)\n",
    "        print(filenames)\n",
    "        \n",
    "        cv2.imwrite(filenames + '.jpg', img)\n",
    "\n",
    "        \n",
    "print(\"done\")"
   ]
  },
  {
   "cell_type": "markdown",
   "id": "db4de23f",
   "metadata": {},
   "source": [
    "# 3.[JSON]Airsim -> yolov5 포맷으로 변경\n",
    "- 윈도우 환경 C:\\Users\\slkaf\\Documents\\AirSim\\Meadow_Environment\\ME_label     \n",
    "- \"Width  : 3840\n",
    "- \"Height : 2160"
   ]
  },
  {
   "cell_type": "code",
   "execution_count": 84,
   "id": "aad60b81",
   "metadata": {},
   "outputs": [],
   "source": [
    "import json\n",
    "import os\n",
    "from datetime import datetime\n",
    "import cv2\n",
    " \n",
    "path = \"C:\\\\Users\\slkaf\\\\Documents\\\\AirSim\\\\Meadow_Environment\\\\ME_label\\\\\"     # Airsim Json경로\n",
    "for currentdir, dirs, files in os.walk(path):\n",
    "\n",
    "    for file in files :\n",
    "        #print(currentdir)\n",
    "        #print(dirs)\n",
    "        #print(file)\n",
    "        \n",
    "        \n",
    "        labelpath = path + file \n",
    "        #print(labelpath)\n",
    "        labelpath,_= os.path.splitext(labelpath)\n",
    "        labelpath += '.json' # label 경로\n",
    "        #print(labelpath)\n",
    "        \n",
    "        \n",
    "        ## JSON호출\n",
    "        with open(labelpath, 'r') as f:\n",
    "            json_data = json.load(f)\n",
    "        x1 = json_data[\"box2D\"][\"min\"][\"x_val\"]\n",
    "        x2 = json_data[\"box2D\"][\"max\"][\"x_val\"]\n",
    "        y1 = json_data[\"box2D\"][\"min\"][\"y_val\"]\n",
    "        y2 = json_data[\"box2D\"][\"max\"][\"y_val\"]\n",
    "        \n",
    "        \n",
    "        yolo_coord = polygon2yolo(x1,x2,y1,y2)\n",
    "        yolo_coord = list(map(str, yolo_coord)) # Str형으로 변환\n",
    "        \n",
    "        yolo_filename,_= file.split('.')\n",
    "        yolo_path = 'C:\\\\Users\\\\slkaf\\\\Documents\\\\AirSim\\\\Meadow_Environment\\\\ME_label_yolo\\\\' +yolo_filename+'.txt' #저장할 욜로label 경로\n",
    "        \n",
    "        \n",
    "        \n",
    "        with open(yolo_path, 'w') as f2:\n",
    "            f2.write(yolo_coord[0] +\" \" + yolo_coord[1] +\" \" + yolo_coord[2] +\" \" +yolo_coord[3] )\n",
    "    \n",
    "    \n"
   ]
  },
  {
   "cell_type": "code",
   "execution_count": 74,
   "id": "c39a4a86",
   "metadata": {},
   "outputs": [],
   "source": [
    "#이삭님 코드 준 코드 변환\n",
    "def polygon2yolo(x1,x2,y1,y2):\n",
    "    \n",
    "    yolo_list = []\n",
    "    \n",
    "    cx = int((x1 + x2) / 2)\n",
    "    cy = int((y1 + y2) / 2)\n",
    "    w = int(y2 - y1)\n",
    "    h = int(x2 - x1)\n",
    "    \n",
    "    norm_cx = float(cx / 3840)\n",
    "    norm_cy = float(cy / 2160)\n",
    "    norm_w = float(w / 2160)\n",
    "    norm_h = float(h / 3840)\n",
    "    \n",
    "    yolo_list.extend([norm_cx, norm_cy, norm_w, norm_h])\n",
    "    \n",
    "    return yolo_list"
   ]
  },
  {
   "cell_type": "markdown",
   "id": "0efc4d48",
   "metadata": {},
   "source": [
    "\n",
    "\n",
    "![ex_screenshot](https://i.imgur.com/hsXMr1q.jpg)"
   ]
  }
 ],
 "metadata": {
  "kernelspec": {
   "display_name": "Python 3 (ipykernel)",
   "language": "python",
   "name": "python3"
  },
  "language_info": {
   "codemirror_mode": {
    "name": "ipython",
    "version": 3
   },
   "file_extension": ".py",
   "mimetype": "text/x-python",
   "name": "python",
   "nbconvert_exporter": "python",
   "pygments_lexer": "ipython3",
   "version": "3.9.6"
  }
 },
 "nbformat": 4,
 "nbformat_minor": 5
}
